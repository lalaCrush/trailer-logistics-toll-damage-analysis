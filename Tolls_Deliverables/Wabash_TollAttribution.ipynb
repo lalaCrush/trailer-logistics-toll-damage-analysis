{
 "cells": [
  {
   "cell_type": "markdown",
   "metadata": {},
   "source": [
    "## Creating Toll Attribution Table by Merging subscription data and tolls data \n",
    "\n",
    "Only need to execute once"
   ]
  },
  {
   "cell_type": "code",
   "execution_count": null,
   "metadata": {
    "vscode": {
     "languageId": "sql"
    }
   },
   "outputs": [],
   "source": [
    "CREATE TABLE \"Wabash_tolls\".\"toll_attribution\" AS\n",
    "SELECT \n",
    "    t.\"Vehicle_Number\",\n",
    "    t.\"Exit_Date\",\n",
    "    t.\"Toll_Charge\",\n",
    "    s.\"Client\",\n",
    "    s.\"Start datetime\",\n",
    "    s.\"End datetime\"\n",
    "FROM \"Wabash_tolls\".\"tolls\" t\n",
    "JOIN \"Wabash_tolls\".\"subscriptions\" s\n",
    "ON TRIM(t.\"Vehicle_Number\") = TRIM(s.\"Asset name\")\n",
    "AND DATE(t.\"Exit_Date\") BETWEEN DATE(s.\"Start datetime\") AND DATE(s.\"End datetime\");\n"
   ]
  },
  {
   "cell_type": "markdown",
   "metadata": {},
   "source": [
    "## Updating all the new matchings to the toll attrinution table\n",
    "\n",
    "execute repeatedly"
   ]
  },
  {
   "cell_type": "code",
   "execution_count": null,
   "metadata": {
    "vscode": {
     "languageId": "sql"
    }
   },
   "outputs": [],
   "source": [
    "INSERT INTO Wabash_tolls.toll_attribution\n",
    "SELECT \n",
    "    t.Vehicle_Number,\n",
    "    t.Exit_Date,\n",
    "    t.Toll_Charge,\n",
    "    s.Client,\n",
    "    s.\"Start datetime\",\n",
    "    s.\"End datetime\",\n",
    "    CURRENT_TIMESTAMP AS update_timestamp\n",
    "FROM Wabash_tolls.tolls t\n",
    "JOIN Wabash_tolls.subscriptions s\n",
    "ON TRIM(t.Vehicle_Number) = TRIM(s.\"Asset name\")\n",
    "AND t.Exit_Date BETWEEN s.\"Start datetime\" AND s.\"End datetime\"\n",
    "WHERE NOT EXISTS (\n",
    "    SELECT 1 \n",
    "    FROM Wabash_tolls.toll_attribution a\n",
    "    WHERE a.Vehicle_Number = t.Vehicle_Number\n",
    "    AND a.Exit_Date = t.Exit_Date\n",
    ");\n"
   ]
  },
  {
   "cell_type": "markdown",
   "metadata": {},
   "source": [
    "## Write a query that shows the total toll amount by date and clients"
   ]
  },
  {
   "cell_type": "code",
   "execution_count": null,
   "metadata": {
    "vscode": {
     "languageId": "sql"
    }
   },
   "outputs": [],
   "source": [
    "SELECT \n",
    "    DATE(Exit_Date) AS Toll_Date,\n",
    "    Client,\n",
    "    SUM(Toll_Charge) AS Total_Toll_Charge,\n",
    "    COUNT(DISTINCT Vehicle_Number) AS Vehicles_Charged\n",
    "FROM Wabash_tolls.toll_attribution\n",
    "GROUP BY \n",
    "    DATE(Exit_Date), \n",
    "    Client\n",
    "ORDER BY \n",
    "    Toll_Date DESC, \n",
    "    Client;\n"
   ]
  }
 ],
 "metadata": {
  "language_info": {
   "name": "python"
  }
 },
 "nbformat": 4,
 "nbformat_minor": 2
}
